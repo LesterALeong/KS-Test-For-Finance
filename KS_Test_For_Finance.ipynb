{
  "nbformat": 4,
  "nbformat_minor": 0,
  "metadata": {
    "colab": {
      "name": "KS Test For Finance.ipynb",
      "provenance": [],
      "collapsed_sections": []
    },
    "kernelspec": {
      "name": "python3",
      "display_name": "Python 3"
    },
    "language_info": {
      "name": "python"
    }
  },
  "cells": [
    {
      "cell_type": "markdown",
      "source": [
        "# Kolmogorov-Smirnov test for goodness of fit\n",
        "https://docs.scipy.org/doc/scipy/reference/generated/scipy.stats.kstest.html"
      ],
      "metadata": {
        "id": "sD1rT9gmhET9"
      }
    },
    {
      "cell_type": "code",
      "execution_count": 1,
      "metadata": {
        "colab": {
          "base_uri": "https://localhost:8080/"
        },
        "id": "AxnSFVr1g_BP",
        "outputId": "6214780d-e45a-4376-ecff-a0a23e05b5fb"
      },
      "outputs": [
        {
          "output_type": "stream",
          "name": "stdout",
          "text": [
            "Collecting yfinance\n",
            "  Downloading yfinance-0.1.69-py2.py3-none-any.whl (26 kB)\n",
            "Requirement already satisfied: numpy>=1.15 in /usr/local/lib/python3.7/dist-packages (from yfinance) (1.19.5)\n",
            "Requirement already satisfied: multitasking>=0.0.7 in /usr/local/lib/python3.7/dist-packages (from yfinance) (0.0.10)\n",
            "Collecting requests>=2.26\n",
            "  Downloading requests-2.27.1-py2.py3-none-any.whl (63 kB)\n",
            "\u001b[K     |████████████████████████████████| 63 kB 962 kB/s \n",
            "\u001b[?25hRequirement already satisfied: pandas>=0.24 in /usr/local/lib/python3.7/dist-packages (from yfinance) (1.1.5)\n",
            "Collecting lxml>=4.5.1\n",
            "  Downloading lxml-4.7.1-cp37-cp37m-manylinux_2_17_x86_64.manylinux2014_x86_64.manylinux_2_24_x86_64.whl (6.4 MB)\n",
            "\u001b[K     |████████████████████████████████| 6.4 MB 11.5 MB/s \n",
            "\u001b[?25hRequirement already satisfied: pytz>=2017.2 in /usr/local/lib/python3.7/dist-packages (from pandas>=0.24->yfinance) (2018.9)\n",
            "Requirement already satisfied: python-dateutil>=2.7.3 in /usr/local/lib/python3.7/dist-packages (from pandas>=0.24->yfinance) (2.8.2)\n",
            "Requirement already satisfied: six>=1.5 in /usr/local/lib/python3.7/dist-packages (from python-dateutil>=2.7.3->pandas>=0.24->yfinance) (1.15.0)\n",
            "Requirement already satisfied: urllib3<1.27,>=1.21.1 in /usr/local/lib/python3.7/dist-packages (from requests>=2.26->yfinance) (1.24.3)\n",
            "Requirement already satisfied: certifi>=2017.4.17 in /usr/local/lib/python3.7/dist-packages (from requests>=2.26->yfinance) (2021.10.8)\n",
            "Requirement already satisfied: charset-normalizer~=2.0.0 in /usr/local/lib/python3.7/dist-packages (from requests>=2.26->yfinance) (2.0.10)\n",
            "Requirement already satisfied: idna<4,>=2.5 in /usr/local/lib/python3.7/dist-packages (from requests>=2.26->yfinance) (2.10)\n",
            "Installing collected packages: requests, lxml, yfinance\n",
            "  Attempting uninstall: requests\n",
            "    Found existing installation: requests 2.23.0\n",
            "    Uninstalling requests-2.23.0:\n",
            "      Successfully uninstalled requests-2.23.0\n",
            "  Attempting uninstall: lxml\n",
            "    Found existing installation: lxml 4.2.6\n",
            "    Uninstalling lxml-4.2.6:\n",
            "      Successfully uninstalled lxml-4.2.6\n",
            "\u001b[31mERROR: pip's dependency resolver does not currently take into account all the packages that are installed. This behaviour is the source of the following dependency conflicts.\n",
            "google-colab 1.0.0 requires requests~=2.23.0, but you have requests 2.27.1 which is incompatible.\n",
            "datascience 0.10.6 requires folium==0.2.1, but you have folium 0.8.3 which is incompatible.\u001b[0m\n",
            "Successfully installed lxml-4.7.1 requests-2.27.1 yfinance-0.1.69\n",
            "Collecting statsmodels==0.13.0\n",
            "  Downloading statsmodels-0.13.0-cp37-cp37m-manylinux_2_17_x86_64.manylinux2014_x86_64.whl (9.8 MB)\n",
            "\u001b[K     |████████████████████████████████| 9.8 MB 4.9 MB/s \n",
            "\u001b[?25hRequirement already satisfied: scipy>=1.3 in /usr/local/lib/python3.7/dist-packages (from statsmodels==0.13.0) (1.4.1)\n",
            "Requirement already satisfied: patsy>=0.5.2 in /usr/local/lib/python3.7/dist-packages (from statsmodels==0.13.0) (0.5.2)\n",
            "Requirement already satisfied: pandas>=0.25 in /usr/local/lib/python3.7/dist-packages (from statsmodels==0.13.0) (1.1.5)\n",
            "Requirement already satisfied: numpy>=1.17 in /usr/local/lib/python3.7/dist-packages (from statsmodels==0.13.0) (1.19.5)\n",
            "Requirement already satisfied: pytz>=2017.2 in /usr/local/lib/python3.7/dist-packages (from pandas>=0.25->statsmodels==0.13.0) (2018.9)\n",
            "Requirement already satisfied: python-dateutil>=2.7.3 in /usr/local/lib/python3.7/dist-packages (from pandas>=0.25->statsmodels==0.13.0) (2.8.2)\n",
            "Requirement already satisfied: six in /usr/local/lib/python3.7/dist-packages (from patsy>=0.5.2->statsmodels==0.13.0) (1.15.0)\n",
            "Installing collected packages: statsmodels\n",
            "  Attempting uninstall: statsmodels\n",
            "    Found existing installation: statsmodels 0.10.2\n",
            "    Uninstalling statsmodels-0.10.2:\n",
            "      Successfully uninstalled statsmodels-0.10.2\n",
            "Successfully installed statsmodels-0.13.0\n"
          ]
        }
      ],
      "source": [
        "!pip install yfinance\n",
        "!pip install statsmodels==0.13.0\n",
        "from scipy import stats, special\n",
        "import yfinance as yf\n",
        "from datetime import datetime, timedelta, date\n",
        "import pandas as pd\n",
        "import numpy as np\n",
        "from statsmodels.tsa.forecasting.theta import ThetaModel"
      ]
    },
    {
      "cell_type": "code",
      "source": [
        "stock = 'BTC-USD'\n",
        "days = (365*3)\n",
        "startdate = datetime.now() - timedelta(days=days)\n",
        "df = yf.download(stock, startdate)[['Adj Close']]#.pct_change().dropna()\n",
        "df"
      ],
      "metadata": {
        "colab": {
          "base_uri": "https://localhost:8080/",
          "height": 472
        },
        "id": "LvzT4F7UhpJf",
        "outputId": "c5a1e459-27a7-474d-8413-02b48adbe4d7"
      },
      "execution_count": 2,
      "outputs": [
        {
          "output_type": "stream",
          "name": "stdout",
          "text": [
            "\r[*********************100%***********************]  1 of 1 completed\n"
          ]
        },
        {
          "output_type": "execute_result",
          "data": {
            "text/html": [
              "\n",
              "  <div id=\"df-15ef8c43-4f47-40e7-9d10-b54717a9d469\">\n",
              "    <div class=\"colab-df-container\">\n",
              "      <div>\n",
              "<style scoped>\n",
              "    .dataframe tbody tr th:only-of-type {\n",
              "        vertical-align: middle;\n",
              "    }\n",
              "\n",
              "    .dataframe tbody tr th {\n",
              "        vertical-align: top;\n",
              "    }\n",
              "\n",
              "    .dataframe thead th {\n",
              "        text-align: right;\n",
              "    }\n",
              "</style>\n",
              "<table border=\"1\" class=\"dataframe\">\n",
              "  <thead>\n",
              "    <tr style=\"text-align: right;\">\n",
              "      <th></th>\n",
              "      <th>Adj Close</th>\n",
              "    </tr>\n",
              "    <tr>\n",
              "      <th>Date</th>\n",
              "      <th></th>\n",
              "    </tr>\n",
              "  </thead>\n",
              "  <tbody>\n",
              "    <tr>\n",
              "      <th>2019-01-20</th>\n",
              "      <td>3601.013672</td>\n",
              "    </tr>\n",
              "    <tr>\n",
              "      <th>2019-01-21</th>\n",
              "      <td>3576.032471</td>\n",
              "    </tr>\n",
              "    <tr>\n",
              "      <th>2019-01-22</th>\n",
              "      <td>3604.577148</td>\n",
              "    </tr>\n",
              "    <tr>\n",
              "      <th>2019-01-23</th>\n",
              "      <td>3585.123047</td>\n",
              "    </tr>\n",
              "    <tr>\n",
              "      <th>2019-01-24</th>\n",
              "      <td>3600.865479</td>\n",
              "    </tr>\n",
              "    <tr>\n",
              "      <th>...</th>\n",
              "      <td>...</td>\n",
              "    </tr>\n",
              "    <tr>\n",
              "      <th>2022-01-15</th>\n",
              "      <td>43177.398438</td>\n",
              "    </tr>\n",
              "    <tr>\n",
              "      <th>2022-01-16</th>\n",
              "      <td>43113.878906</td>\n",
              "    </tr>\n",
              "    <tr>\n",
              "      <th>2022-01-17</th>\n",
              "      <td>42250.550781</td>\n",
              "    </tr>\n",
              "    <tr>\n",
              "      <th>2022-01-18</th>\n",
              "      <td>42375.632812</td>\n",
              "    </tr>\n",
              "    <tr>\n",
              "      <th>2022-01-19</th>\n",
              "      <td>42148.605469</td>\n",
              "    </tr>\n",
              "  </tbody>\n",
              "</table>\n",
              "<p>1096 rows × 1 columns</p>\n",
              "</div>\n",
              "      <button class=\"colab-df-convert\" onclick=\"convertToInteractive('df-15ef8c43-4f47-40e7-9d10-b54717a9d469')\"\n",
              "              title=\"Convert this dataframe to an interactive table.\"\n",
              "              style=\"display:none;\">\n",
              "        \n",
              "  <svg xmlns=\"http://www.w3.org/2000/svg\" height=\"24px\"viewBox=\"0 0 24 24\"\n",
              "       width=\"24px\">\n",
              "    <path d=\"M0 0h24v24H0V0z\" fill=\"none\"/>\n",
              "    <path d=\"M18.56 5.44l.94 2.06.94-2.06 2.06-.94-2.06-.94-.94-2.06-.94 2.06-2.06.94zm-11 1L8.5 8.5l.94-2.06 2.06-.94-2.06-.94L8.5 2.5l-.94 2.06-2.06.94zm10 10l.94 2.06.94-2.06 2.06-.94-2.06-.94-.94-2.06-.94 2.06-2.06.94z\"/><path d=\"M17.41 7.96l-1.37-1.37c-.4-.4-.92-.59-1.43-.59-.52 0-1.04.2-1.43.59L10.3 9.45l-7.72 7.72c-.78.78-.78 2.05 0 2.83L4 21.41c.39.39.9.59 1.41.59.51 0 1.02-.2 1.41-.59l7.78-7.78 2.81-2.81c.8-.78.8-2.07 0-2.86zM5.41 20L4 18.59l7.72-7.72 1.47 1.35L5.41 20z\"/>\n",
              "  </svg>\n",
              "      </button>\n",
              "      \n",
              "  <style>\n",
              "    .colab-df-container {\n",
              "      display:flex;\n",
              "      flex-wrap:wrap;\n",
              "      gap: 12px;\n",
              "    }\n",
              "\n",
              "    .colab-df-convert {\n",
              "      background-color: #E8F0FE;\n",
              "      border: none;\n",
              "      border-radius: 50%;\n",
              "      cursor: pointer;\n",
              "      display: none;\n",
              "      fill: #1967D2;\n",
              "      height: 32px;\n",
              "      padding: 0 0 0 0;\n",
              "      width: 32px;\n",
              "    }\n",
              "\n",
              "    .colab-df-convert:hover {\n",
              "      background-color: #E2EBFA;\n",
              "      box-shadow: 0px 1px 2px rgba(60, 64, 67, 0.3), 0px 1px 3px 1px rgba(60, 64, 67, 0.15);\n",
              "      fill: #174EA6;\n",
              "    }\n",
              "\n",
              "    [theme=dark] .colab-df-convert {\n",
              "      background-color: #3B4455;\n",
              "      fill: #D2E3FC;\n",
              "    }\n",
              "\n",
              "    [theme=dark] .colab-df-convert:hover {\n",
              "      background-color: #434B5C;\n",
              "      box-shadow: 0px 1px 3px 1px rgba(0, 0, 0, 0.15);\n",
              "      filter: drop-shadow(0px 1px 2px rgba(0, 0, 0, 0.3));\n",
              "      fill: #FFFFFF;\n",
              "    }\n",
              "  </style>\n",
              "\n",
              "      <script>\n",
              "        const buttonEl =\n",
              "          document.querySelector('#df-15ef8c43-4f47-40e7-9d10-b54717a9d469 button.colab-df-convert');\n",
              "        buttonEl.style.display =\n",
              "          google.colab.kernel.accessAllowed ? 'block' : 'none';\n",
              "\n",
              "        async function convertToInteractive(key) {\n",
              "          const element = document.querySelector('#df-15ef8c43-4f47-40e7-9d10-b54717a9d469');\n",
              "          const dataTable =\n",
              "            await google.colab.kernel.invokeFunction('convertToInteractive',\n",
              "                                                     [key], {});\n",
              "          if (!dataTable) return;\n",
              "\n",
              "          const docLinkHtml = 'Like what you see? Visit the ' +\n",
              "            '<a target=\"_blank\" href=https://colab.research.google.com/notebooks/data_table.ipynb>data table notebook</a>'\n",
              "            + ' to learn more about interactive tables.';\n",
              "          element.innerHTML = '';\n",
              "          dataTable['output_type'] = 'display_data';\n",
              "          await google.colab.output.renderOutput(dataTable, element);\n",
              "          const docLink = document.createElement('div');\n",
              "          docLink.innerHTML = docLinkHtml;\n",
              "          element.appendChild(docLink);\n",
              "        }\n",
              "      </script>\n",
              "    </div>\n",
              "  </div>\n",
              "  "
            ],
            "text/plain": [
              "               Adj Close\n",
              "Date                    \n",
              "2019-01-20   3601.013672\n",
              "2019-01-21   3576.032471\n",
              "2019-01-22   3604.577148\n",
              "2019-01-23   3585.123047\n",
              "2019-01-24   3600.865479\n",
              "...                  ...\n",
              "2022-01-15  43177.398438\n",
              "2022-01-16  43113.878906\n",
              "2022-01-17  42250.550781\n",
              "2022-01-18  42375.632812\n",
              "2022-01-19  42148.605469\n",
              "\n",
              "[1096 rows x 1 columns]"
            ]
          },
          "metadata": {},
          "execution_count": 2
        }
      ]
    },
    {
      "cell_type": "code",
      "source": [
        "df[df.index.year == 2019].plot()"
      ],
      "metadata": {
        "colab": {
          "base_uri": "https://localhost:8080/",
          "height": 308
        },
        "id": "nQptRYnWVOxF",
        "outputId": "b9520f94-2c83-469c-d036-e368a1f72203"
      },
      "execution_count": 14,
      "outputs": [
        {
          "output_type": "execute_result",
          "data": {
            "text/plain": [
              "<matplotlib.axes._subplots.AxesSubplot at 0x7f8ae2ed9f50>"
            ]
          },
          "metadata": {},
          "execution_count": 14
        },
        {
          "output_type": "display_data",
          "data": {
            "image/png": "[encoded data removed]",
            "text/plain": [
              "<Figure size 432x288 with 1 Axes>"
            ]
          },
          "metadata": {
            "needs_background": "light"
          }
        }
      ]
    },
    {
      "cell_type": "code",
      "source": [
        "df[df.index.year == 2020].plot()"
      ],
      "metadata": {
        "colab": {
          "base_uri": "https://localhost:8080/",
          "height": 310
        },
        "id": "XEZv99yrVRrc",
        "outputId": "84eaff9e-e4b8-47bb-f7fc-f9fa707e1c49"
      },
      "execution_count": 15,
      "outputs": [
        {
          "output_type": "execute_result",
          "data": {
            "text/plain": [
              "<matplotlib.axes._subplots.AxesSubplot at 0x7f8ae28a3790>"
            ]
          },
          "metadata": {},
          "execution_count": 15
        },
        {
          "output_type": "display_data",
          "data": {
            "image/png": "[encoded data removed]",
            "text/plain": [
              "<Figure size 432x288 with 1 Axes>"
            ]
          },
          "metadata": {
            "needs_background": "light"
          }
        }
      ]
    },
    {
      "cell_type": "code",
      "source": [
        "df[df.index.year == 2021].plot()"
      ],
      "metadata": {
        "colab": {
          "base_uri": "https://localhost:8080/",
          "height": 308
        },
        "id": "yJ-iZIAsVT5k",
        "outputId": "dbab3809-2767-43e9-d423-1b9c94bf3e33"
      },
      "execution_count": 16,
      "outputs": [
        {
          "output_type": "execute_result",
          "data": {
            "text/plain": [
              "<matplotlib.axes._subplots.AxesSubplot at 0x7f8ae28bc610>"
            ]
          },
          "metadata": {},
          "execution_count": 16
        },
        {
          "output_type": "display_data",
          "data": {
            "image/png": "[encoded data removed]",
            "text/plain": [
              "<Figure size 432x288 with 1 Axes>"
            ]
          },
          "metadata": {
            "needs_background": "light"
          }
        }
      ]
    },
    {
      "cell_type": "code",
      "source": [
        "# Preparing data for kstest\n",
        "df2019 = df[df.index.year == 2019]\n",
        "df2019['Adj Close'].values"
      ],
      "metadata": {
        "id": "SE4LbzoejCbL",
        "colab": {
          "base_uri": "https://localhost:8080/"
        },
        "outputId": "7cbe9723-151b-49eb-969e-af6095b8c27d"
      },
      "execution_count": 3,
      "outputs": [
        {
          "output_type": "execute_result",
          "data": {
            "text/plain": [
              "array([ 3601.01367188,  3576.0324707 ,  3604.57714844,  3585.12304688,\n",
              "        3600.86547852,  3599.76586914,  3602.46044922,  3583.96582031,\n",
              "        3470.45043945,  3448.11694336,  3486.18164062,  3457.79272461,\n",
              "        3487.9453125 ,  3521.06079102,  3464.01342773,  3459.15405273,\n",
              "        3466.35742188,  3413.76782227,  3399.47167969,  3666.78027344,\n",
              "        3671.20361328,  3690.18823242,  3648.43066406,  3653.52856445,\n",
              "        3632.07055664,  3616.88085938,  3620.81079102,  3629.78759766,\n",
              "        3673.83618164,  3915.71435547,  3947.09448242,  3999.82055664,\n",
              "        3954.11816406,  4005.52661133,  4142.52685547,  3810.42749023,\n",
              "        3882.69628906,  3854.35791016,  3851.04736328,  3854.78540039,\n",
              "        3859.58374023,  3864.41503906,  3847.17578125,  3761.55712891,\n",
              "        3896.375     ,  3903.94262695,  3911.484375  ,  3901.1315918 ,\n",
              "        3963.3137207 ,  3951.59985352,  3905.22729492,  3909.15625   ,\n",
              "        3906.71728516,  3924.36914062,  3960.91113281,  4048.72583008,\n",
              "        4025.22900391,  4032.50732422,  4071.19018555,  4087.47631836,\n",
              "        4029.3269043 ,  4023.96826172,  4035.82641602,  4022.16821289,\n",
              "        3963.07055664,  3985.08081055,  4087.06616211,  4069.10717773,\n",
              "        4098.37451172,  4106.66015625,  4105.40429688,  4158.18310547,\n",
              "        4879.87792969,  4973.02197266,  4922.79882812,  5036.68115234,\n",
              "        5059.81738281,  5198.89697266,  5289.77099609,  5204.95849609,\n",
              "        5324.55175781,  5064.48779297,  5089.5390625 ,  5096.58642578,\n",
              "        5167.72216797,  5067.10839844,  5235.55957031,  5251.93798828,\n",
              "        5298.38574219,  5303.8125    ,  5337.88623047,  5314.53125   ,\n",
              "        5399.36523438,  5572.36230469,  5464.86669922,  5210.515625  ,\n",
              "        5279.34814453,  5268.29101562,  5285.13916016,  5247.35253906,\n",
              "        5350.7265625 ,  5402.69726562,  5505.28369141,  5768.28955078,\n",
              "        5831.16748047,  5795.70849609,  5746.80712891,  5829.50146484,\n",
              "        5982.45751953,  6174.52880859,  6378.84912109,  7204.77148438,\n",
              "        6972.37158203,  7814.91503906,  7994.41601562,  8205.16796875,\n",
              "        7884.90917969,  7343.89550781,  7271.20800781,  8197.68945312,\n",
              "        7978.30908203,  7963.32763672,  7680.06640625,  7881.84667969,\n",
              "        7987.37158203,  8052.54394531,  8673.21582031,  8805.77832031,\n",
              "        8719.96191406,  8659.48730469,  8319.47265625,  8574.50195312,\n",
              "        8564.01660156,  8742.95800781,  8208.99511719,  7707.77099609,\n",
              "        7824.23144531,  7822.0234375 ,  8043.95117188,  7954.12792969,\n",
              "        7688.07714844,  8000.32958984,  7927.71435547,  8145.85742188,\n",
              "        8230.92382812,  8693.83300781,  8838.375     ,  8994.48828125,\n",
              "        9320.35253906,  9081.76269531,  9273.52148438,  9527.16015625,\n",
              "       10144.55664062, 10701.69140625, 10855.37109375, 11011.10253906,\n",
              "       11790.91699219, 13016.23144531, 11182.80664062, 12407.33203125,\n",
              "       11959.37109375, 10817.15527344, 10583.13476562, 10801.67773438,\n",
              "       11961.26953125, 11215.4375    , 10978.45996094, 11208.55078125,\n",
              "       11450.84667969, 12285.95800781, 12573.8125    , 12156.51269531,\n",
              "       11358.66210938, 11815.98632812, 11392.37890625, 10256.05859375,\n",
              "       10895.08984375,  9477.64160156,  9693.80273438, 10666.48242188,\n",
              "       10530.73242188, 10767.13964844, 10599.10546875, 10343.10644531,\n",
              "        9900.76757812,  9811.92578125,  9911.84179688,  9870.30371094,\n",
              "        9477.67773438,  9552.86035156,  9519.14550781,  9607.42382812,\n",
              "       10085.62792969, 10399.66894531, 10518.17480469, 10821.7265625 ,\n",
              "       10970.18457031, 11805.65332031, 11478.16894531, 11941.96875   ,\n",
              "       11966.40722656, 11862.93652344, 11354.02441406, 11523.57910156,\n",
              "       11382.61621094, 10895.83007812, 10051.70410156, 10311.54589844,\n",
              "       10374.33886719, 10231.74414062, 10345.81054688, 10916.05371094,\n",
              "       10763.23242188, 10138.04980469, 10131.05566406, 10407.96484375,\n",
              "       10159.9609375 , 10138.51757812, 10370.8203125 , 10185.5       ,\n",
              "        9754.42285156,  9510.20019531,  9598.17382812,  9630.6640625 ,\n",
              "        9757.97070312, 10346.76074219, 10623.54003906, 10594.49316406,\n",
              "       10575.53320312, 10353.30273438, 10517.25488281, 10441.27636719,\n",
              "       10334.97460938, 10115.97558594, 10178.37207031, 10410.12695312,\n",
              "       10360.546875  , 10358.04882812, 10347.71289062, 10276.79394531,\n",
              "       10241.27246094, 10198.24804688, 10266.41503906, 10181.64160156,\n",
              "       10019.71679688, 10070.39257812,  9729.32421875,  8620.56640625,\n",
              "        8486.99316406,  8118.96777344,  8251.84570312,  8245.91503906,\n",
              "        8104.18554688,  8293.86816406,  8343.27636719,  8393.04199219,\n",
              "        8259.9921875 ,  8205.93945312,  8151.50048828,  7988.15576172,\n",
              "        8245.62304688,  8228.78320312,  8595.74023438,  8586.47363281,\n",
              "        8321.75683594,  8336.55566406,  8321.00585938,  8374.68652344,\n",
              "        8205.36914062,  8047.52685547,  8103.91113281,  7973.20751953,\n",
              "        7988.56054688,  8222.078125  ,  8243.72070312,  8078.203125  ,\n",
              "        7514.671875  ,  7493.48876953,  8660.70019531,  9244.97265625,\n",
              "        9551.71484375,  9256.1484375 ,  9427.6875    ,  9205.7265625 ,\n",
              "        9199.58496094,  9261.10449219,  9324.71777344,  9235.35449219,\n",
              "        9412.61230469,  9342.52734375,  9360.87988281,  9267.56152344,\n",
              "        8804.88085938,  8813.58203125,  9055.52636719,  8757.78808594,\n",
              "        8815.66210938,  8808.26269531,  8708.09472656,  8491.9921875 ,\n",
              "        8550.76074219,  8577.97558594,  8309.28613281,  8206.14550781,\n",
              "        8027.26806641,  7642.75      ,  7296.57763672,  7397.796875  ,\n",
              "        7047.91699219,  7146.13378906,  7218.37109375,  7531.66357422,\n",
              "        7463.10595703,  7761.24365234,  7569.62988281,  7424.29248047,\n",
              "        7321.98828125,  7320.14550781,  7252.03466797,  7448.30761719,\n",
              "        7546.99658203,  7556.23779297,  7564.34521484,  7400.89941406,\n",
              "        7278.11962891,  7217.42724609,  7243.13427734,  7269.68457031,\n",
              "        7124.67382812,  7152.30175781,  6932.48046875,  6640.51513672,\n",
              "        7276.80273438,  7202.84423828,  7218.81640625,  7191.15869141,\n",
              "        7511.58886719,  7355.62841797,  7322.53222656,  7275.15576172,\n",
              "        7238.96679688,  7290.08837891,  7317.99023438,  7422.65283203,\n",
              "        7292.99511719,  7193.59912109])"
            ]
          },
          "metadata": {},
          "execution_count": 3
        }
      ]
    },
    {
      "cell_type": "markdown",
      "source": [
        "Don’t reject null hypothesis in favor of alternative hypothesis: greater - p-value >= 0.05"
      ],
      "metadata": {
        "id": "8Pgbhs70md_D"
      }
    },
    {
      "cell_type": "code",
      "source": [
        "# 1 sided kstest against normal distribution\n",
        "kstest1sided = stats.kstest(rvs=df[df.index.year == 2019]['Adj Close'].values, \n",
        "             cdf='norm',\n",
        "             N=100)\n",
        "kstest1sided"
      ],
      "metadata": {
        "id": "6AFjV_I_hMGy",
        "colab": {
          "base_uri": "https://localhost:8080/"
        },
        "outputId": "8500790e-29f2-402e-adc0-3887e1b256f5"
      },
      "execution_count": 4,
      "outputs": [
        {
          "output_type": "execute_result",
          "data": {
            "text/plain": [
              "KstestResult(statistic=1.0, pvalue=0.0)"
            ]
          },
          "metadata": {},
          "execution_count": 4
        }
      ]
    },
    {
      "cell_type": "code",
      "source": [
        "# Distrubitons are NOT the same?\n",
        "kstest1sided[1] <= 0.05"
      ],
      "metadata": {
        "id": "D_-3unZvm1pL",
        "colab": {
          "base_uri": "https://localhost:8080/"
        },
        "outputId": "697e91b0-6278-46c9-ad85-85196d1959bc"
      },
      "execution_count": 5,
      "outputs": [
        {
          "output_type": "execute_result",
          "data": {
            "text/plain": [
              "True"
            ]
          },
          "metadata": {},
          "execution_count": 5
        }
      ]
    },
    {
      "cell_type": "code",
      "source": [
        "# 2 sided kstest against normal distribution\n",
        "kstest2sided = stats.ks_2samp(df[df.index.year == 2019]['Adj Close'].values, \n",
        "                              df[df.index.year == 2020]['Adj Close'].values)\n",
        "kstest2sided"
      ],
      "metadata": {
        "id": "Lu_LF03pnEPS",
        "colab": {
          "base_uri": "https://localhost:8080/"
        },
        "outputId": "02d57ac1-f67d-4de3-e565-c98e6283d1d0"
      },
      "execution_count": 6,
      "outputs": [
        {
          "output_type": "execute_result",
          "data": {
            "text/plain": [
              "Ks_2sampResult(statistic=0.43864303989386905, pvalue=9.992007221626409e-16)"
            ]
          },
          "metadata": {},
          "execution_count": 6
        }
      ]
    },
    {
      "cell_type": "code",
      "source": [
        "# Distrubitons are NOT the same?\n",
        "kstest2sided[1] <= 0.05"
      ],
      "metadata": {
        "id": "MY3Qg2i3nYub",
        "colab": {
          "base_uri": "https://localhost:8080/"
        },
        "outputId": "ad047538-d83d-48b9-9de2-a3748024701f"
      },
      "execution_count": 7,
      "outputs": [
        {
          "output_type": "execute_result",
          "data": {
            "text/plain": [
              "True"
            ]
          },
          "metadata": {},
          "execution_count": 7
        }
      ]
    },
    {
      "cell_type": "code",
      "source": [
        "# Check all years against each other\n",
        "years = list(df.index.year.unique())\n",
        "for first_year in range(len(years)):\n",
        "  for second_year in range(1, len(years)):\n",
        "    kstest2sided = stats.ks_2samp(df[df.index.year == years[first_year]]['Adj Close'].values, \n",
        "                                  df[df.index.year == years[second_year]]['Adj Close'].values)\n",
        "    print(years[first_year], 'vs.', years[second_year])\n",
        "    print(kstest2sided)"
      ],
      "metadata": {
        "id": "mhkJKLMqnioq",
        "colab": {
          "base_uri": "https://localhost:8080/"
        },
        "outputId": "992cc5e4-21d9-4052-9e20-5bb9d7f9a83c"
      },
      "execution_count": 8,
      "outputs": [
        {
          "output_type": "stream",
          "name": "stdout",
          "text": [
            "2019 vs. 2020\n",
            "Ks_2sampResult(statistic=0.43864303989386905, pvalue=9.992007221626409e-16)\n",
            "2019 vs. 2021\n",
            "Ks_2sampResult(statistic=1.0, pvalue=8.881784197001252e-16)\n",
            "2019 vs. 2022\n",
            "Ks_2sampResult(statistic=1.0, pvalue=4.538474127269612e-16)\n",
            "2020 vs. 2020\n",
            "Ks_2sampResult(statistic=0.0, pvalue=1.0)\n",
            "2020 vs. 2021\n",
            "Ks_2sampResult(statistic=1.0, pvalue=0.0)\n",
            "2020 vs. 2022\n",
            "Ks_2sampResult(statistic=1.0, pvalue=4.0952728445425283e-16)\n",
            "2021 vs. 2020\n",
            "Ks_2sampResult(statistic=1.0, pvalue=0.0)\n",
            "2021 vs. 2021\n",
            "Ks_2sampResult(statistic=0.0, pvalue=1.0)\n",
            "2021 vs. 2022\n",
            "Ks_2sampResult(statistic=0.5068493150684932, pvalue=8.127128195289934e-05)\n",
            "2022 vs. 2020\n",
            "Ks_2sampResult(statistic=1.0, pvalue=4.0952728445425283e-16)\n",
            "2022 vs. 2021\n",
            "Ks_2sampResult(statistic=0.5068493150684932, pvalue=8.127128195289934e-05)\n",
            "2022 vs. 2022\n",
            "Ks_2sampResult(statistic=0.0, pvalue=1.0)\n"
          ]
        }
      ]
    },
    {
      "cell_type": "code",
      "source": [
        "# Testing against in sample and out of sample strategies\n",
        "strat41 = pd.read_csv('strat41.csv')\n",
        "strat41"
      ],
      "metadata": {
        "colab": {
          "base_uri": "https://localhost:8080/",
          "height": 424
        },
        "id": "njyJixcF3JYP",
        "outputId": "7f0d3714-a97a-48d1-c023-6d6dee22a30e"
      },
      "execution_count": 10,
      "outputs": [
        {
          "output_type": "execute_result",
          "data": {
            "text/html": [
              "\n",
              "  <div id=\"df-a82d19f4-5145-43b8-bfcf-a22dba55d2c3\">\n",
              "    <div class=\"colab-df-container\">\n",
              "      <div>\n",
              "<style scoped>\n",
              "    .dataframe tbody tr th:only-of-type {\n",
              "        vertical-align: middle;\n",
              "    }\n",
              "\n",
              "    .dataframe tbody tr th {\n",
              "        vertical-align: top;\n",
              "    }\n",
              "\n",
              "    .dataframe thead th {\n",
              "        text-align: right;\n",
              "    }\n",
              "</style>\n",
              "<table border=\"1\" class=\"dataframe\">\n",
              "  <thead>\n",
              "    <tr style=\"text-align: right;\">\n",
              "      <th></th>\n",
              "      <th>OOS</th>\n",
              "      <th>IS</th>\n",
              "    </tr>\n",
              "  </thead>\n",
              "  <tbody>\n",
              "    <tr>\n",
              "      <th>0</th>\n",
              "      <td>-23.14</td>\n",
              "      <td>-23.14</td>\n",
              "    </tr>\n",
              "    <tr>\n",
              "      <th>1</th>\n",
              "      <td>29.00</td>\n",
              "      <td>37.51</td>\n",
              "    </tr>\n",
              "    <tr>\n",
              "      <th>2</th>\n",
              "      <td>-103.77</td>\n",
              "      <td>130.25</td>\n",
              "    </tr>\n",
              "    <tr>\n",
              "      <th>3</th>\n",
              "      <td>-23.14</td>\n",
              "      <td>192.59</td>\n",
              "    </tr>\n",
              "    <tr>\n",
              "      <th>4</th>\n",
              "      <td>-23.14</td>\n",
              "      <td>192.59</td>\n",
              "    </tr>\n",
              "    <tr>\n",
              "      <th>...</th>\n",
              "      <td>...</td>\n",
              "      <td>...</td>\n",
              "    </tr>\n",
              "    <tr>\n",
              "      <th>671</th>\n",
              "      <td>NaN</td>\n",
              "      <td>316.50</td>\n",
              "    </tr>\n",
              "    <tr>\n",
              "      <th>672</th>\n",
              "      <td>NaN</td>\n",
              "      <td>-97.75</td>\n",
              "    </tr>\n",
              "    <tr>\n",
              "      <th>673</th>\n",
              "      <td>NaN</td>\n",
              "      <td>-57.27</td>\n",
              "    </tr>\n",
              "    <tr>\n",
              "      <th>674</th>\n",
              "      <td>NaN</td>\n",
              "      <td>44.75</td>\n",
              "    </tr>\n",
              "    <tr>\n",
              "      <th>675</th>\n",
              "      <td>NaN</td>\n",
              "      <td>-22.75</td>\n",
              "    </tr>\n",
              "  </tbody>\n",
              "</table>\n",
              "<p>676 rows × 2 columns</p>\n",
              "</div>\n",
              "      <button class=\"colab-df-convert\" onclick=\"convertToInteractive('df-a82d19f4-5145-43b8-bfcf-a22dba55d2c3')\"\n",
              "              title=\"Convert this dataframe to an interactive table.\"\n",
              "              style=\"display:none;\">\n",
              "        \n",
              "  <svg xmlns=\"http://www.w3.org/2000/svg\" height=\"24px\"viewBox=\"0 0 24 24\"\n",
              "       width=\"24px\">\n",
              "    <path d=\"M0 0h24v24H0V0z\" fill=\"none\"/>\n",
              "    <path d=\"M18.56 5.44l.94 2.06.94-2.06 2.06-.94-2.06-.94-.94-2.06-.94 2.06-2.06.94zm-11 1L8.5 8.5l.94-2.06 2.06-.94-2.06-.94L8.5 2.5l-.94 2.06-2.06.94zm10 10l.94 2.06.94-2.06 2.06-.94-2.06-.94-.94-2.06-.94 2.06-2.06.94z\"/><path d=\"M17.41 7.96l-1.37-1.37c-.4-.4-.92-.59-1.43-.59-.52 0-1.04.2-1.43.59L10.3 9.45l-7.72 7.72c-.78.78-.78 2.05 0 2.83L4 21.41c.39.39.9.59 1.41.59.51 0 1.02-.2 1.41-.59l7.78-7.78 2.81-2.81c.8-.78.8-2.07 0-2.86zM5.41 20L4 18.59l7.72-7.72 1.47 1.35L5.41 20z\"/>\n",
              "  </svg>\n",
              "      </button>\n",
              "      \n",
              "  <style>\n",
              "    .colab-df-container {\n",
              "      display:flex;\n",
              "      flex-wrap:wrap;\n",
              "      gap: 12px;\n",
              "    }\n",
              "\n",
              "    .colab-df-convert {\n",
              "      background-color: #E8F0FE;\n",
              "      border: none;\n",
              "      border-radius: 50%;\n",
              "      cursor: pointer;\n",
              "      display: none;\n",
              "      fill: #1967D2;\n",
              "      height: 32px;\n",
              "      padding: 0 0 0 0;\n",
              "      width: 32px;\n",
              "    }\n",
              "\n",
              "    .colab-df-convert:hover {\n",
              "      background-color: #E2EBFA;\n",
              "      box-shadow: 0px 1px 2px rgba(60, 64, 67, 0.3), 0px 1px 3px 1px rgba(60, 64, 67, 0.15);\n",
              "      fill: #174EA6;\n",
              "    }\n",
              "\n",
              "    [theme=dark] .colab-df-convert {\n",
              "      background-color: #3B4455;\n",
              "      fill: #D2E3FC;\n",
              "    }\n",
              "\n",
              "    [theme=dark] .colab-df-convert:hover {\n",
              "      background-color: #434B5C;\n",
              "      box-shadow: 0px 1px 3px 1px rgba(0, 0, 0, 0.15);\n",
              "      filter: drop-shadow(0px 1px 2px rgba(0, 0, 0, 0.3));\n",
              "      fill: #FFFFFF;\n",
              "    }\n",
              "  </style>\n",
              "\n",
              "      <script>\n",
              "        const buttonEl =\n",
              "          document.querySelector('#df-a82d19f4-5145-43b8-bfcf-a22dba55d2c3 button.colab-df-convert');\n",
              "        buttonEl.style.display =\n",
              "          google.colab.kernel.accessAllowed ? 'block' : 'none';\n",
              "\n",
              "        async function convertToInteractive(key) {\n",
              "          const element = document.querySelector('#df-a82d19f4-5145-43b8-bfcf-a22dba55d2c3');\n",
              "          const dataTable =\n",
              "            await google.colab.kernel.invokeFunction('convertToInteractive',\n",
              "                                                     [key], {});\n",
              "          if (!dataTable) return;\n",
              "\n",
              "          const docLinkHtml = 'Like what you see? Visit the ' +\n",
              "            '<a target=\"_blank\" href=https://colab.research.google.com/notebooks/data_table.ipynb>data table notebook</a>'\n",
              "            + ' to learn more about interactive tables.';\n",
              "          element.innerHTML = '';\n",
              "          dataTable['output_type'] = 'display_data';\n",
              "          await google.colab.output.renderOutput(dataTable, element);\n",
              "          const docLink = document.createElement('div');\n",
              "          docLink.innerHTML = docLinkHtml;\n",
              "          element.appendChild(docLink);\n",
              "        }\n",
              "      </script>\n",
              "    </div>\n",
              "  </div>\n",
              "  "
            ],
            "text/plain": [
              "        OOS      IS\n",
              "0    -23.14  -23.14\n",
              "1     29.00   37.51\n",
              "2   -103.77  130.25\n",
              "3    -23.14  192.59\n",
              "4    -23.14  192.59\n",
              "..      ...     ...\n",
              "671     NaN  316.50\n",
              "672     NaN  -97.75\n",
              "673     NaN  -57.27\n",
              "674     NaN   44.75\n",
              "675     NaN  -22.75\n",
              "\n",
              "[676 rows x 2 columns]"
            ]
          },
          "metadata": {},
          "execution_count": 10
        }
      ]
    },
    {
      "cell_type": "code",
      "source": [
        "strat41IS = strat41['IS'].dropna()\n",
        "strat41OOS = strat41['OOS'].dropna()"
      ],
      "metadata": {
        "id": "8W3cPEvM3baw"
      },
      "execution_count": 11,
      "outputs": []
    },
    {
      "cell_type": "code",
      "source": [
        "kstest2sided = stats.ks_2samp(strat41IS, \n",
        "                              strat41OOS)\n",
        "kstest2sided"
      ],
      "metadata": {
        "colab": {
          "base_uri": "https://localhost:8080/"
        },
        "id": "wYq1pYEe3iW-",
        "outputId": "11779bd6-91bd-4f82-b696-a7be719ca929"
      },
      "execution_count": 12,
      "outputs": [
        {
          "output_type": "execute_result",
          "data": {
            "text/plain": [
              "Ks_2sampResult(statistic=0.17455621301775148, pvalue=0.02478878373677662)"
            ]
          },
          "metadata": {},
          "execution_count": 12
        }
      ]
    },
    {
      "cell_type": "code",
      "source": [
        "# Distrubitons are NOT the same?\n",
        "if kstest2sided[1] <= 0.05 == \"False\":\n",
        "  print('Returns are the same')\n",
        "else:\n",
        "  print('Returns are different')"
      ],
      "metadata": {
        "colab": {
          "base_uri": "https://localhost:8080/"
        },
        "id": "79u6dhD43n02",
        "outputId": "55e481b6-efcf-4276-b43e-27ff8022df2a"
      },
      "execution_count": 13,
      "outputs": [
        {
          "output_type": "stream",
          "name": "stdout",
          "text": [
            "Returns are different\n"
          ]
        }
      ]
    }
  ]
}